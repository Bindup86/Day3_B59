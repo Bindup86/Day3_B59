{
 "cells": [
  {
   "cell_type": "code",
   "execution_count": null,
   "id": "2b801be2",
   "metadata": {},
   "outputs": [],
   "source": [
    "# Continuation of Strings:"
   ]
  },
  {
   "cell_type": "code",
   "execution_count": null,
   "id": "b98552f3",
   "metadata": {},
   "outputs": [],
   "source": [
    "# How to get the type of the variable?"
   ]
  },
  {
   "cell_type": "code",
   "execution_count": 1,
   "id": "588d6032",
   "metadata": {},
   "outputs": [
    {
     "data": {
      "text/plain": [
       "str"
      ]
     },
     "execution_count": 1,
     "metadata": {},
     "output_type": "execute_result"
    }
   ],
   "source": [
    "Name = \"Bindu\"\n",
    "type(Name)"
   ]
  },
  {
   "cell_type": "code",
   "execution_count": null,
   "id": "9e8704ff",
   "metadata": {},
   "outputs": [],
   "source": []
  },
  {
   "cell_type": "code",
   "execution_count": null,
   "id": "d352e8ca",
   "metadata": {},
   "outputs": [],
   "source": [
    "# How to print in Sentence case?"
   ]
  },
  {
   "cell_type": "code",
   "execution_count": 5,
   "id": "7fa28c7f",
   "metadata": {},
   "outputs": [
    {
     "name": "stdout",
     "output_type": "stream",
     "text": [
      "Bindu Mohandas\n"
     ]
    }
   ],
   "source": [
    "full_name = 'bindu mohandas'\n",
    "print(full_name.title())"
   ]
  },
  {
   "cell_type": "code",
   "execution_count": null,
   "id": "471444ef",
   "metadata": {},
   "outputs": [],
   "source": [
    "# How to print in UPPER CASE? "
   ]
  },
  {
   "cell_type": "code",
   "execution_count": 6,
   "id": "7ae48de0",
   "metadata": {},
   "outputs": [
    {
     "name": "stdout",
     "output_type": "stream",
     "text": [
      "BINDU MOHANDAS\n"
     ]
    }
   ],
   "source": [
    "print(full_name.upper())"
   ]
  },
  {
   "cell_type": "code",
   "execution_count": null,
   "id": "7d49684e",
   "metadata": {},
   "outputs": [],
   "source": [
    "# How to print in lower case?"
   ]
  },
  {
   "cell_type": "code",
   "execution_count": 7,
   "id": "44c42347",
   "metadata": {},
   "outputs": [
    {
     "name": "stdout",
     "output_type": "stream",
     "text": [
      "bindu mohandas\n"
     ]
    }
   ],
   "source": [
    "print(full_name.lower())"
   ]
  },
  {
   "cell_type": "code",
   "execution_count": null,
   "id": "9275496d",
   "metadata": {},
   "outputs": [],
   "source": []
  },
  {
   "cell_type": "code",
   "execution_count": null,
   "id": "b3c55783",
   "metadata": {},
   "outputs": [],
   "source": [
    "# Introducing f strings:\n",
    "General Syntax: f\" Custom message {placeholder 1} {placeholder 2} .......... {placeholder n}\" "
   ]
  },
  {
   "cell_type": "code",
   "execution_count": null,
   "id": "1299e71f",
   "metadata": {},
   "outputs": [],
   "source": [
    "# How to use f strings?"
   ]
  },
  {
   "cell_type": "code",
   "execution_count": 9,
   "id": "53643235",
   "metadata": {},
   "outputs": [
    {
     "name": "stdout",
     "output_type": "stream",
     "text": [
      " bindu mohandas\n"
     ]
    }
   ],
   "source": [
    "firstname = 'bindu'\n",
    "lastname = 'mohandas'\n",
    "full_name = f\" {firstname} {lastname}\" \n",
    "print(full_name)"
   ]
  },
  {
   "cell_type": "code",
   "execution_count": 10,
   "id": "54a2cec8",
   "metadata": {},
   "outputs": [
    {
     "name": "stdout",
     "output_type": "stream",
     "text": [
      " Bindu Mohandas\n"
     ]
    }
   ],
   "source": [
    "print(full_name.title())"
   ]
  },
  {
   "cell_type": "code",
   "execution_count": null,
   "id": "6c6342cd",
   "metadata": {},
   "outputs": [],
   "source": [
    "# How to print full name with custom medssage?"
   ]
  },
  {
   "cell_type": "code",
   "execution_count": 11,
   "id": "34e5a9b7",
   "metadata": {},
   "outputs": [
    {
     "name": "stdout",
     "output_type": "stream",
     "text": [
      " Well done  Bindu Mohandas!\n"
     ]
    }
   ],
   "source": [
    "message = f\" Well done {full_name.title()}!\" \n",
    "print(message)"
   ]
  },
  {
   "cell_type": "code",
   "execution_count": null,
   "id": "4484ecdb",
   "metadata": {},
   "outputs": [],
   "source": []
  },
  {
   "cell_type": "code",
   "execution_count": null,
   "id": "a2602aa2",
   "metadata": {},
   "outputs": [],
   "source": [
    "# How to print in different lines? \\n ------> new line"
   ]
  },
  {
   "cell_type": "code",
   "execution_count": 12,
   "id": "07c24178",
   "metadata": {},
   "outputs": [
    {
     "name": "stdout",
     "output_type": "stream",
     "text": [
      "Favourite Programming Languages:\n",
      "Python\n",
      "Java\n",
      "C++\n",
      "Pascal\n"
     ]
    }
   ],
   "source": [
    "print(\"Favourite Programming Languages:\\nPython\\nJava\\nC++\\nPascal\")"
   ]
  },
  {
   "cell_type": "code",
   "execution_count": null,
   "id": "4cd98cd3",
   "metadata": {},
   "outputs": [],
   "source": [
    "# \\t -------> leaves a tab space from left side (tab delimeter)"
   ]
  },
  {
   "cell_type": "code",
   "execution_count": 13,
   "id": "a4c9b3e3",
   "metadata": {},
   "outputs": [
    {
     "name": "stdout",
     "output_type": "stream",
     "text": [
      "Favourite Programming Languages:\n",
      "\tPython\n",
      "\tJava\n",
      "\tC++\n",
      "\tPascal\n"
     ]
    }
   ],
   "source": [
    "print(\"Favourite Programming Languages:\\n\\tPython\\n\\tJava\\n\\tC++\\n\\tPascal\")"
   ]
  },
  {
   "cell_type": "code",
   "execution_count": null,
   "id": "13bc621e",
   "metadata": {},
   "outputs": [],
   "source": []
  }
 ],
 "metadata": {
  "kernelspec": {
   "display_name": "Python 3 (ipykernel)",
   "language": "python",
   "name": "python3"
  },
  "language_info": {
   "codemirror_mode": {
    "name": "ipython",
    "version": 3
   },
   "file_extension": ".py",
   "mimetype": "text/x-python",
   "name": "python",
   "nbconvert_exporter": "python",
   "pygments_lexer": "ipython3",
   "version": "3.9.12"
  }
 },
 "nbformat": 4,
 "nbformat_minor": 5
}
